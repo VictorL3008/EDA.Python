{
 "cells": [
  {
   "cell_type": "markdown",
   "id": "f4b8a23b-c30d-489d-9fb5-033bf41aad96",
   "metadata": {},
   "source": [
    "# **HEALTHCARE EXPLORATORY DATA ANALYSIS**\n",
    "\n",
    "## Victor Leal\n",
    "\n",
    "## URL = https://www.kaggle.com/datasets/prasad22/healthcare-dataset\n"
   ]
  },
  {
   "cell_type": "markdown",
   "id": "0bcf9f72-ac89-4dff-9be8-cf7d1cd6140b",
   "metadata": {
    "jp-MarkdownHeadingCollapsed": true
   },
   "source": [
    "#### ¿CON QUE ESTAMOS TRABAJANDO?"
   ]
  },
  {
   "cell_type": "code",
   "execution_count": null,
   "id": "f72665fd-3d36-4b12-a0fb-0bcc1946ec68",
   "metadata": {},
   "outputs": [],
   "source": [
    "'''\n",
    "Este conjunto de datos contiene información sobre pacientes admitidos en un hospital. \n",
    "incluyendo detalles demográficos, condiciones médicas, tratamientos e información de facturación. \n",
    "El conjunto de datos comprende las siguientes columnas:\n",
    "\n",
    "Nombre: Nombres de los pacientes admitidos en el hospital.\n",
    "\n",
    "Edad: Edad de los pacientes en el momento de la admisión.\n",
    "\n",
    "Género: Género de los pacientes (por ejemplo, masculino, femenino).\n",
    "\n",
    "Tipo de Sangre: Tipo de sangre de los pacientes.\n",
    "\n",
    "Condición Médica: Descripción de la condición médica o diagnóstico por el cual el paciente es admitido.\n",
    "\n",
    "Fecha de Admisión: Fecha en la que el paciente fue admitido en el hospital.\n",
    "\n",
    "Doctor: Nombre o identificador del médico responsable del cuidado del paciente.\n",
    "\n",
    "Hospital: Nombre o identificador del hospital donde el paciente es admitido.\n",
    "\n",
    "Proveedor de Seguro: Nombre de la aseguradora que cubre los gastos médicos del paciente.\n",
    "\n",
    "Monto de Facturación: Cantidad facturada al paciente o a su aseguradora por los servicios médicos recibidos durante su estancia en el hospital.\n",
    "\n",
    "Número de Habitación: Identificador de la habitación donde se aloja el paciente.\n",
    "\n",
    "Tipo de Admisión: Tipo de admisión, como emergencia, electiva o transferencia.\n",
    "\n",
    "Fecha de Alta: Fecha en la que el paciente fue dado de alta del hospital.\n",
    "\n",
    "Medicamentos: Lista de medicamentos prescritos al paciente durante su hospitalización.\n",
    "\n",
    "Resultados de Pruebas: Resultados de las pruebas médicas realizadas al paciente durante su estancia en el hospital.\n",
    "\n",
    "Este conjunto de datos proporciona información valiosa sobre la demografía de los pacientes, condiciones médicas, patrones de tratamiento \n",
    "y operaciones hospitalarias. Puede ser utilizado para diversos análisis, como predicción de resultados de pacientes,\n",
    "optimización de la asignación de recursos e iniciativas para mejorar la calidad del cuidado de la salud.\n",
    "'''"
   ]
  },
  {
   "cell_type": "markdown",
   "id": "75f7339d-b321-41fc-8f5e-a111ce6ee552",
   "metadata": {},
   "source": [
    "## IMPORTAR LIBRERIAS"
   ]
  },
  {
   "cell_type": "code",
   "execution_count": 4,
   "id": "291157d1-9c9b-47c5-a7a0-94ec5f10b833",
   "metadata": {},
   "outputs": [],
   "source": [
    "#Importar librerías \n",
    "\n",
    "import pandas as pd \n",
    "import numpy as np \n",
    "import matplotlib.pyplot as plt\n",
    "import seaborn as sns\n",
    "import plotly.express as px\n",
    "import plotly.graph_objects as go\n",
    "\n",
    "import warnings\n",
    "warnings.filterwarnings('ignore')"
   ]
  },
  {
   "cell_type": "code",
   "execution_count": 6,
   "id": "30d7de5d-965d-48d4-904d-ecf93c10158e",
   "metadata": {},
   "outputs": [],
   "source": [
    "#Leer archivo\n",
    "Filename = 'healthcare_dataset.csv'\n",
    "df = pd.read_csv(Filename)"
   ]
  },
  {
   "cell_type": "markdown",
   "id": "6c650670-ff67-44c6-a0d3-8e8e2b41275a",
   "metadata": {
    "jp-MarkdownHeadingCollapsed": true
   },
   "source": [
    "## VISTA PREVIA DE LOS DATOS"
   ]
  },
  {
   "cell_type": "code",
   "execution_count": 29,
   "id": "7949610e-12d8-47f6-9b57-ade799760c50",
   "metadata": {},
   "outputs": [
    {
     "data": {
      "text/html": [
       "<div>\n",
       "<style scoped>\n",
       "    .dataframe tbody tr th:only-of-type {\n",
       "        vertical-align: middle;\n",
       "    }\n",
       "\n",
       "    .dataframe tbody tr th {\n",
       "        vertical-align: top;\n",
       "    }\n",
       "\n",
       "    .dataframe thead th {\n",
       "        text-align: right;\n",
       "    }\n",
       "</style>\n",
       "<table border=\"1\" class=\"dataframe\">\n",
       "  <thead>\n",
       "    <tr style=\"text-align: right;\">\n",
       "      <th></th>\n",
       "      <th>Name</th>\n",
       "      <th>Age</th>\n",
       "      <th>Gender</th>\n",
       "      <th>Blood Type</th>\n",
       "      <th>Medical Condition</th>\n",
       "      <th>Date of Admission</th>\n",
       "      <th>Doctor</th>\n",
       "      <th>Hospital</th>\n",
       "      <th>Insurance Provider</th>\n",
       "      <th>Billing Amount</th>\n",
       "      <th>Room Number</th>\n",
       "      <th>Admission Type</th>\n",
       "      <th>Discharge Date</th>\n",
       "      <th>Medication</th>\n",
       "      <th>Test Results</th>\n",
       "    </tr>\n",
       "  </thead>\n",
       "  <tbody>\n",
       "    <tr>\n",
       "      <th>0</th>\n",
       "      <td>Bobby JacksOn</td>\n",
       "      <td>30</td>\n",
       "      <td>Male</td>\n",
       "      <td>B-</td>\n",
       "      <td>Cancer</td>\n",
       "      <td>2024-01-31</td>\n",
       "      <td>Matthew Smith</td>\n",
       "      <td>Sons and Miller</td>\n",
       "      <td>Blue Cross</td>\n",
       "      <td>18856.281306</td>\n",
       "      <td>328</td>\n",
       "      <td>Urgent</td>\n",
       "      <td>2024-02-02</td>\n",
       "      <td>Paracetamol</td>\n",
       "      <td>Normal</td>\n",
       "    </tr>\n",
       "    <tr>\n",
       "      <th>1</th>\n",
       "      <td>LesLie TErRy</td>\n",
       "      <td>62</td>\n",
       "      <td>Male</td>\n",
       "      <td>A+</td>\n",
       "      <td>Obesity</td>\n",
       "      <td>2019-08-20</td>\n",
       "      <td>Samantha Davies</td>\n",
       "      <td>Kim Inc</td>\n",
       "      <td>Medicare</td>\n",
       "      <td>33643.327287</td>\n",
       "      <td>265</td>\n",
       "      <td>Emergency</td>\n",
       "      <td>2019-08-26</td>\n",
       "      <td>Ibuprofen</td>\n",
       "      <td>Inconclusive</td>\n",
       "    </tr>\n",
       "    <tr>\n",
       "      <th>2</th>\n",
       "      <td>DaNnY sMitH</td>\n",
       "      <td>76</td>\n",
       "      <td>Female</td>\n",
       "      <td>A-</td>\n",
       "      <td>Obesity</td>\n",
       "      <td>2022-09-22</td>\n",
       "      <td>Tiffany Mitchell</td>\n",
       "      <td>Cook PLC</td>\n",
       "      <td>Aetna</td>\n",
       "      <td>27955.096079</td>\n",
       "      <td>205</td>\n",
       "      <td>Emergency</td>\n",
       "      <td>2022-10-07</td>\n",
       "      <td>Aspirin</td>\n",
       "      <td>Normal</td>\n",
       "    </tr>\n",
       "    <tr>\n",
       "      <th>3</th>\n",
       "      <td>andrEw waTtS</td>\n",
       "      <td>28</td>\n",
       "      <td>Female</td>\n",
       "      <td>O+</td>\n",
       "      <td>Diabetes</td>\n",
       "      <td>2020-11-18</td>\n",
       "      <td>Kevin Wells</td>\n",
       "      <td>Hernandez Rogers and Vang,</td>\n",
       "      <td>Medicare</td>\n",
       "      <td>37909.782410</td>\n",
       "      <td>450</td>\n",
       "      <td>Elective</td>\n",
       "      <td>2020-12-18</td>\n",
       "      <td>Ibuprofen</td>\n",
       "      <td>Abnormal</td>\n",
       "    </tr>\n",
       "    <tr>\n",
       "      <th>4</th>\n",
       "      <td>adrIENNE bEll</td>\n",
       "      <td>43</td>\n",
       "      <td>Female</td>\n",
       "      <td>AB+</td>\n",
       "      <td>Cancer</td>\n",
       "      <td>2022-09-19</td>\n",
       "      <td>Kathleen Hanna</td>\n",
       "      <td>White-White</td>\n",
       "      <td>Aetna</td>\n",
       "      <td>14238.317814</td>\n",
       "      <td>458</td>\n",
       "      <td>Urgent</td>\n",
       "      <td>2022-10-09</td>\n",
       "      <td>Penicillin</td>\n",
       "      <td>Abnormal</td>\n",
       "    </tr>\n",
       "  </tbody>\n",
       "</table>\n",
       "</div>"
      ],
      "text/plain": [
       "            Name  Age  Gender Blood Type Medical Condition Date of Admission  \\\n",
       "0  Bobby JacksOn   30    Male         B-            Cancer        2024-01-31   \n",
       "1   LesLie TErRy   62    Male         A+           Obesity        2019-08-20   \n",
       "2    DaNnY sMitH   76  Female         A-           Obesity        2022-09-22   \n",
       "3   andrEw waTtS   28  Female         O+          Diabetes        2020-11-18   \n",
       "4  adrIENNE bEll   43  Female        AB+            Cancer        2022-09-19   \n",
       "\n",
       "             Doctor                    Hospital Insurance Provider  \\\n",
       "0     Matthew Smith             Sons and Miller         Blue Cross   \n",
       "1   Samantha Davies                     Kim Inc           Medicare   \n",
       "2  Tiffany Mitchell                    Cook PLC              Aetna   \n",
       "3       Kevin Wells  Hernandez Rogers and Vang,           Medicare   \n",
       "4    Kathleen Hanna                 White-White              Aetna   \n",
       "\n",
       "   Billing Amount  Room Number Admission Type Discharge Date   Medication  \\\n",
       "0    18856.281306          328         Urgent     2024-02-02  Paracetamol   \n",
       "1    33643.327287          265      Emergency     2019-08-26    Ibuprofen   \n",
       "2    27955.096079          205      Emergency     2022-10-07      Aspirin   \n",
       "3    37909.782410          450       Elective     2020-12-18    Ibuprofen   \n",
       "4    14238.317814          458         Urgent     2022-10-09   Penicillin   \n",
       "\n",
       "   Test Results  \n",
       "0        Normal  \n",
       "1  Inconclusive  \n",
       "2        Normal  \n",
       "3      Abnormal  \n",
       "4      Abnormal  "
      ]
     },
     "execution_count": 29,
     "metadata": {},
     "output_type": "execute_result"
    }
   ],
   "source": [
    "# Ver 5 primeras filas\n",
    "df.head()"
   ]
  },
  {
   "cell_type": "code",
   "execution_count": 31,
   "id": "c0af6865-9d54-4f2a-aa74-6ba338cd8f4c",
   "metadata": {},
   "outputs": [
    {
     "data": {
      "text/html": [
       "<div>\n",
       "<style scoped>\n",
       "    .dataframe tbody tr th:only-of-type {\n",
       "        vertical-align: middle;\n",
       "    }\n",
       "\n",
       "    .dataframe tbody tr th {\n",
       "        vertical-align: top;\n",
       "    }\n",
       "\n",
       "    .dataframe thead th {\n",
       "        text-align: right;\n",
       "    }\n",
       "</style>\n",
       "<table border=\"1\" class=\"dataframe\">\n",
       "  <thead>\n",
       "    <tr style=\"text-align: right;\">\n",
       "      <th></th>\n",
       "      <th>Name</th>\n",
       "      <th>Age</th>\n",
       "      <th>Gender</th>\n",
       "      <th>Blood Type</th>\n",
       "      <th>Medical Condition</th>\n",
       "      <th>Date of Admission</th>\n",
       "      <th>Doctor</th>\n",
       "      <th>Hospital</th>\n",
       "      <th>Insurance Provider</th>\n",
       "      <th>Billing Amount</th>\n",
       "      <th>Room Number</th>\n",
       "      <th>Admission Type</th>\n",
       "      <th>Discharge Date</th>\n",
       "      <th>Medication</th>\n",
       "      <th>Test Results</th>\n",
       "    </tr>\n",
       "  </thead>\n",
       "  <tbody>\n",
       "    <tr>\n",
       "      <th>55495</th>\n",
       "      <td>eLIZABeTH jaCkSOn</td>\n",
       "      <td>42</td>\n",
       "      <td>Female</td>\n",
       "      <td>O+</td>\n",
       "      <td>Asthma</td>\n",
       "      <td>2020-08-16</td>\n",
       "      <td>Joshua Jarvis</td>\n",
       "      <td>Jones-Thompson</td>\n",
       "      <td>Blue Cross</td>\n",
       "      <td>2650.714952</td>\n",
       "      <td>417</td>\n",
       "      <td>Elective</td>\n",
       "      <td>2020-09-15</td>\n",
       "      <td>Penicillin</td>\n",
       "      <td>Abnormal</td>\n",
       "    </tr>\n",
       "    <tr>\n",
       "      <th>55496</th>\n",
       "      <td>KYle pEREz</td>\n",
       "      <td>61</td>\n",
       "      <td>Female</td>\n",
       "      <td>AB-</td>\n",
       "      <td>Obesity</td>\n",
       "      <td>2020-01-23</td>\n",
       "      <td>Taylor Sullivan</td>\n",
       "      <td>Tucker-Moyer</td>\n",
       "      <td>Cigna</td>\n",
       "      <td>31457.797307</td>\n",
       "      <td>316</td>\n",
       "      <td>Elective</td>\n",
       "      <td>2020-02-01</td>\n",
       "      <td>Aspirin</td>\n",
       "      <td>Normal</td>\n",
       "    </tr>\n",
       "    <tr>\n",
       "      <th>55497</th>\n",
       "      <td>HEATher WaNG</td>\n",
       "      <td>38</td>\n",
       "      <td>Female</td>\n",
       "      <td>B+</td>\n",
       "      <td>Hypertension</td>\n",
       "      <td>2020-07-13</td>\n",
       "      <td>Joe Jacobs DVM</td>\n",
       "      <td>and Mahoney Johnson Vasquez,</td>\n",
       "      <td>UnitedHealthcare</td>\n",
       "      <td>27620.764717</td>\n",
       "      <td>347</td>\n",
       "      <td>Urgent</td>\n",
       "      <td>2020-08-10</td>\n",
       "      <td>Ibuprofen</td>\n",
       "      <td>Abnormal</td>\n",
       "    </tr>\n",
       "    <tr>\n",
       "      <th>55498</th>\n",
       "      <td>JENniFER JOneS</td>\n",
       "      <td>43</td>\n",
       "      <td>Male</td>\n",
       "      <td>O-</td>\n",
       "      <td>Arthritis</td>\n",
       "      <td>2019-05-25</td>\n",
       "      <td>Kimberly Curry</td>\n",
       "      <td>Jackson Todd and Castro,</td>\n",
       "      <td>Medicare</td>\n",
       "      <td>32451.092358</td>\n",
       "      <td>321</td>\n",
       "      <td>Elective</td>\n",
       "      <td>2019-05-31</td>\n",
       "      <td>Ibuprofen</td>\n",
       "      <td>Abnormal</td>\n",
       "    </tr>\n",
       "    <tr>\n",
       "      <th>55499</th>\n",
       "      <td>jAMES GARCiA</td>\n",
       "      <td>53</td>\n",
       "      <td>Female</td>\n",
       "      <td>O+</td>\n",
       "      <td>Arthritis</td>\n",
       "      <td>2024-04-02</td>\n",
       "      <td>Dennis Warren</td>\n",
       "      <td>Henry Sons and</td>\n",
       "      <td>Aetna</td>\n",
       "      <td>4010.134172</td>\n",
       "      <td>448</td>\n",
       "      <td>Urgent</td>\n",
       "      <td>2024-04-29</td>\n",
       "      <td>Ibuprofen</td>\n",
       "      <td>Abnormal</td>\n",
       "    </tr>\n",
       "  </tbody>\n",
       "</table>\n",
       "</div>"
      ],
      "text/plain": [
       "                    Name  Age  Gender Blood Type Medical Condition  \\\n",
       "55495  eLIZABeTH jaCkSOn   42  Female         O+            Asthma   \n",
       "55496         KYle pEREz   61  Female        AB-           Obesity   \n",
       "55497       HEATher WaNG   38  Female         B+      Hypertension   \n",
       "55498     JENniFER JOneS   43    Male         O-         Arthritis   \n",
       "55499       jAMES GARCiA   53  Female         O+         Arthritis   \n",
       "\n",
       "      Date of Admission           Doctor                      Hospital  \\\n",
       "55495        2020-08-16    Joshua Jarvis                Jones-Thompson   \n",
       "55496        2020-01-23  Taylor Sullivan                  Tucker-Moyer   \n",
       "55497        2020-07-13   Joe Jacobs DVM  and Mahoney Johnson Vasquez,   \n",
       "55498        2019-05-25   Kimberly Curry      Jackson Todd and Castro,   \n",
       "55499        2024-04-02    Dennis Warren                Henry Sons and   \n",
       "\n",
       "      Insurance Provider  Billing Amount  Room Number Admission Type  \\\n",
       "55495         Blue Cross     2650.714952          417       Elective   \n",
       "55496              Cigna    31457.797307          316       Elective   \n",
       "55497   UnitedHealthcare    27620.764717          347         Urgent   \n",
       "55498           Medicare    32451.092358          321       Elective   \n",
       "55499              Aetna     4010.134172          448         Urgent   \n",
       "\n",
       "      Discharge Date  Medication Test Results  \n",
       "55495     2020-09-15  Penicillin     Abnormal  \n",
       "55496     2020-02-01     Aspirin       Normal  \n",
       "55497     2020-08-10   Ibuprofen     Abnormal  \n",
       "55498     2019-05-31   Ibuprofen     Abnormal  \n",
       "55499     2024-04-29   Ibuprofen     Abnormal  "
      ]
     },
     "execution_count": 31,
     "metadata": {},
     "output_type": "execute_result"
    }
   ],
   "source": [
    "# Ver 5 ultimas filas\n",
    "df.tail()"
   ]
  },
  {
   "cell_type": "code",
   "execution_count": 23,
   "id": "7d353756-ca8a-4071-af63-f60c0b5f8909",
   "metadata": {},
   "outputs": [
    {
     "name": "stdout",
     "output_type": "stream",
     "text": [
      "El set de datos tiene 55500 filas y 15 columnas.\n"
     ]
    }
   ],
   "source": [
    "#Ver tamaño del set de datos (filas y cplumnas)\n",
    "print(f'El set de datos tiene {df.shape[0]} filas y {df.shape[1]} columnas.')"
   ]
  },
  {
   "cell_type": "code",
   "execution_count": 19,
   "id": "753287b8-fe69-48fa-b511-fa424ccafef3",
   "metadata": {},
   "outputs": [
    {
     "name": "stdout",
     "output_type": "stream",
     "text": [
      "<class 'pandas.core.frame.DataFrame'>\n",
      "RangeIndex: 55500 entries, 0 to 55499\n",
      "Data columns (total 15 columns):\n",
      " #   Column              Non-Null Count  Dtype  \n",
      "---  ------              --------------  -----  \n",
      " 0   Name                55500 non-null  object \n",
      " 1   Age                 55500 non-null  int64  \n",
      " 2   Gender              55500 non-null  object \n",
      " 3   Blood Type          55500 non-null  object \n",
      " 4   Medical Condition   55500 non-null  object \n",
      " 5   Date of Admission   55500 non-null  object \n",
      " 6   Doctor              55500 non-null  object \n",
      " 7   Hospital            55500 non-null  object \n",
      " 8   Insurance Provider  55500 non-null  object \n",
      " 9   Billing Amount      55500 non-null  float64\n",
      " 10  Room Number         55500 non-null  int64  \n",
      " 11  Admission Type      55500 non-null  object \n",
      " 12  Discharge Date      55500 non-null  object \n",
      " 13  Medication          55500 non-null  object \n",
      " 14  Test Results        55500 non-null  object \n",
      "dtypes: float64(1), int64(2), object(12)\n",
      "memory usage: 6.4+ MB\n"
     ]
    }
   ],
   "source": [
    "#Ver información sobre el set de datos que estamos trabajando\n",
    "df.info()"
   ]
  },
  {
   "cell_type": "code",
   "execution_count": 27,
   "id": "c6393e42-6c63-41a8-9a5a-2abe9b15d369",
   "metadata": {},
   "outputs": [
    {
     "data": {
      "text/plain": [
       "Name                  0\n",
       "Age                   0\n",
       "Gender                0\n",
       "Blood Type            0\n",
       "Medical Condition     0\n",
       "Date of Admission     0\n",
       "Doctor                0\n",
       "Hospital              0\n",
       "Insurance Provider    0\n",
       "Billing Amount        0\n",
       "Room Number           0\n",
       "Admission Type        0\n",
       "Discharge Date        0\n",
       "Medication            0\n",
       "Test Results          0\n",
       "dtype: int64"
      ]
     },
     "execution_count": 27,
     "metadata": {},
     "output_type": "execute_result"
    }
   ],
   "source": [
    "#Revisar si hay valores faltantes\n",
    "df.isnull().sum()"
   ]
  },
  {
   "cell_type": "code",
   "execution_count": 97,
   "id": "a20afd0e-ee88-45e3-a2cb-389fbf57d9b1",
   "metadata": {},
   "outputs": [
    {
     "data": {
      "text/plain": [
       "Index(['Name', 'Age', 'Gender', 'Blood Type', 'Medical Condition',\n",
       "       'Date of Admission', 'Doctor', 'Hospital', 'Insurance Provider',\n",
       "       'Billing Amount', 'Room Number', 'Admission Type', 'Discharge Date',\n",
       "       'Medication', 'Test Results'],\n",
       "      dtype='object')"
      ]
     },
     "execution_count": 97,
     "metadata": {},
     "output_type": "execute_result"
    }
   ],
   "source": [
    "df.columns"
   ]
  },
  {
   "cell_type": "markdown",
   "id": "fb5e0455-ae60-4dbf-af21-43bb1142fab6",
   "metadata": {},
   "source": [
    "## ANALISIS EXPLORATORIO DE DATOS"
   ]
  },
  {
   "cell_type": "markdown",
   "id": "ee1c01bf-3af8-4599-a799-d06521b04f4b",
   "metadata": {
    "jp-MarkdownHeadingCollapsed": true
   },
   "source": [
    "#### Necesitamos cambiar el formato de la columna 'Name' en un formato lowercase o uppercase para que sea correcto."
   ]
  },
  {
   "cell_type": "code",
   "execution_count": 50,
   "id": "c14193d2-f3ac-4737-b496-9694c16c99c9",
   "metadata": {},
   "outputs": [
    {
     "data": {
      "text/html": [
       "<div>\n",
       "<style scoped>\n",
       "    .dataframe tbody tr th:only-of-type {\n",
       "        vertical-align: middle;\n",
       "    }\n",
       "\n",
       "    .dataframe tbody tr th {\n",
       "        vertical-align: top;\n",
       "    }\n",
       "\n",
       "    .dataframe thead th {\n",
       "        text-align: right;\n",
       "    }\n",
       "</style>\n",
       "<table border=\"1\" class=\"dataframe\">\n",
       "  <thead>\n",
       "    <tr style=\"text-align: right;\">\n",
       "      <th></th>\n",
       "      <th>Name</th>\n",
       "      <th>Age</th>\n",
       "      <th>Gender</th>\n",
       "      <th>Blood Type</th>\n",
       "      <th>Medical Condition</th>\n",
       "      <th>Date of Admission</th>\n",
       "      <th>Doctor</th>\n",
       "      <th>Hospital</th>\n",
       "      <th>Insurance Provider</th>\n",
       "      <th>Billing Amount</th>\n",
       "      <th>Room Number</th>\n",
       "      <th>Admission Type</th>\n",
       "      <th>Discharge Date</th>\n",
       "      <th>Medication</th>\n",
       "      <th>Test Results</th>\n",
       "    </tr>\n",
       "  </thead>\n",
       "  <tbody>\n",
       "    <tr>\n",
       "      <th>0</th>\n",
       "      <td>BOBBY JACKSON</td>\n",
       "      <td>30</td>\n",
       "      <td>Male</td>\n",
       "      <td>B-</td>\n",
       "      <td>Cancer</td>\n",
       "      <td>2024-01-31</td>\n",
       "      <td>Matthew Smith</td>\n",
       "      <td>Sons and Miller</td>\n",
       "      <td>Blue Cross</td>\n",
       "      <td>18856.281306</td>\n",
       "      <td>328</td>\n",
       "      <td>Urgent</td>\n",
       "      <td>2024-02-02</td>\n",
       "      <td>Paracetamol</td>\n",
       "      <td>Normal</td>\n",
       "    </tr>\n",
       "    <tr>\n",
       "      <th>1</th>\n",
       "      <td>LESLIE TERRY</td>\n",
       "      <td>62</td>\n",
       "      <td>Male</td>\n",
       "      <td>A+</td>\n",
       "      <td>Obesity</td>\n",
       "      <td>2019-08-20</td>\n",
       "      <td>Samantha Davies</td>\n",
       "      <td>Kim Inc</td>\n",
       "      <td>Medicare</td>\n",
       "      <td>33643.327287</td>\n",
       "      <td>265</td>\n",
       "      <td>Emergency</td>\n",
       "      <td>2019-08-26</td>\n",
       "      <td>Ibuprofen</td>\n",
       "      <td>Inconclusive</td>\n",
       "    </tr>\n",
       "    <tr>\n",
       "      <th>2</th>\n",
       "      <td>DANNY SMITH</td>\n",
       "      <td>76</td>\n",
       "      <td>Female</td>\n",
       "      <td>A-</td>\n",
       "      <td>Obesity</td>\n",
       "      <td>2022-09-22</td>\n",
       "      <td>Tiffany Mitchell</td>\n",
       "      <td>Cook PLC</td>\n",
       "      <td>Aetna</td>\n",
       "      <td>27955.096079</td>\n",
       "      <td>205</td>\n",
       "      <td>Emergency</td>\n",
       "      <td>2022-10-07</td>\n",
       "      <td>Aspirin</td>\n",
       "      <td>Normal</td>\n",
       "    </tr>\n",
       "    <tr>\n",
       "      <th>3</th>\n",
       "      <td>ANDREW WATTS</td>\n",
       "      <td>28</td>\n",
       "      <td>Female</td>\n",
       "      <td>O+</td>\n",
       "      <td>Diabetes</td>\n",
       "      <td>2020-11-18</td>\n",
       "      <td>Kevin Wells</td>\n",
       "      <td>Hernandez Rogers and Vang,</td>\n",
       "      <td>Medicare</td>\n",
       "      <td>37909.782410</td>\n",
       "      <td>450</td>\n",
       "      <td>Elective</td>\n",
       "      <td>2020-12-18</td>\n",
       "      <td>Ibuprofen</td>\n",
       "      <td>Abnormal</td>\n",
       "    </tr>\n",
       "    <tr>\n",
       "      <th>4</th>\n",
       "      <td>ADRIENNE BELL</td>\n",
       "      <td>43</td>\n",
       "      <td>Female</td>\n",
       "      <td>AB+</td>\n",
       "      <td>Cancer</td>\n",
       "      <td>2022-09-19</td>\n",
       "      <td>Kathleen Hanna</td>\n",
       "      <td>White-White</td>\n",
       "      <td>Aetna</td>\n",
       "      <td>14238.317814</td>\n",
       "      <td>458</td>\n",
       "      <td>Urgent</td>\n",
       "      <td>2022-10-09</td>\n",
       "      <td>Penicillin</td>\n",
       "      <td>Abnormal</td>\n",
       "    </tr>\n",
       "  </tbody>\n",
       "</table>\n",
       "</div>"
      ],
      "text/plain": [
       "            Name  Age  Gender Blood Type Medical Condition Date of Admission  \\\n",
       "0  BOBBY JACKSON   30    Male         B-            Cancer        2024-01-31   \n",
       "1   LESLIE TERRY   62    Male         A+           Obesity        2019-08-20   \n",
       "2    DANNY SMITH   76  Female         A-           Obesity        2022-09-22   \n",
       "3   ANDREW WATTS   28  Female         O+          Diabetes        2020-11-18   \n",
       "4  ADRIENNE BELL   43  Female        AB+            Cancer        2022-09-19   \n",
       "\n",
       "             Doctor                    Hospital Insurance Provider  \\\n",
       "0     Matthew Smith             Sons and Miller         Blue Cross   \n",
       "1   Samantha Davies                     Kim Inc           Medicare   \n",
       "2  Tiffany Mitchell                    Cook PLC              Aetna   \n",
       "3       Kevin Wells  Hernandez Rogers and Vang,           Medicare   \n",
       "4    Kathleen Hanna                 White-White              Aetna   \n",
       "\n",
       "   Billing Amount  Room Number Admission Type Discharge Date   Medication  \\\n",
       "0    18856.281306          328         Urgent     2024-02-02  Paracetamol   \n",
       "1    33643.327287          265      Emergency     2019-08-26    Ibuprofen   \n",
       "2    27955.096079          205      Emergency     2022-10-07      Aspirin   \n",
       "3    37909.782410          450       Elective     2020-12-18    Ibuprofen   \n",
       "4    14238.317814          458         Urgent     2022-10-09   Penicillin   \n",
       "\n",
       "   Test Results  \n",
       "0        Normal  \n",
       "1  Inconclusive  \n",
       "2        Normal  \n",
       "3      Abnormal  \n",
       "4      Abnormal  "
      ]
     },
     "execution_count": 50,
     "metadata": {},
     "output_type": "execute_result"
    }
   ],
   "source": [
    "#Convertir la columna 'Name' a uppercase (MAYUSCULAS)\n",
    "df['Name'] = df['Name'].str.upper()\n",
    "df.head()"
   ]
  },
  {
   "cell_type": "markdown",
   "id": "52ff68b9-58b2-431e-9860-3f784521bb4e",
   "metadata": {
    "jp-MarkdownHeadingCollapsed": true
   },
   "source": [
    "#### Necesitamos cambiar el formato de las columnas 'Date of Admission' y 'Discharge Date' a formato de fechas."
   ]
  },
  {
   "cell_type": "code",
   "execution_count": 26,
   "id": "8650ce10-7f43-46d3-b71a-7d4b781a68e6",
   "metadata": {},
   "outputs": [],
   "source": [
    "df['Date of Admission'] = pd.to_datetime(df['Date of Admission'])\n",
    "df['Discharge Date'] = pd.to_datetime(df['Discharge Date'])"
   ]
  },
  {
   "cell_type": "markdown",
   "id": "15cba72b-1e91-42be-abb2-15a099439370",
   "metadata": {
    "jp-MarkdownHeadingCollapsed": true
   },
   "source": [
    "#### Descripción de los datos."
   ]
  },
  {
   "cell_type": "code",
   "execution_count": 60,
   "id": "55b050b3-a6e8-41e7-9971-8ae6f58d4990",
   "metadata": {},
   "outputs": [
    {
     "data": {
      "text/html": [
       "<div>\n",
       "<style scoped>\n",
       "    .dataframe tbody tr th:only-of-type {\n",
       "        vertical-align: middle;\n",
       "    }\n",
       "\n",
       "    .dataframe tbody tr th {\n",
       "        vertical-align: top;\n",
       "    }\n",
       "\n",
       "    .dataframe thead th {\n",
       "        text-align: right;\n",
       "    }\n",
       "</style>\n",
       "<table border=\"1\" class=\"dataframe\">\n",
       "  <thead>\n",
       "    <tr style=\"text-align: right;\">\n",
       "      <th></th>\n",
       "      <th>Age</th>\n",
       "      <th>Date of Admission</th>\n",
       "      <th>Billing Amount</th>\n",
       "      <th>Room Number</th>\n",
       "      <th>Discharge Date</th>\n",
       "    </tr>\n",
       "  </thead>\n",
       "  <tbody>\n",
       "    <tr>\n",
       "      <th>count</th>\n",
       "      <td>55500.000000</td>\n",
       "      <td>55500</td>\n",
       "      <td>55500.000000</td>\n",
       "      <td>55500.000000</td>\n",
       "      <td>55500</td>\n",
       "    </tr>\n",
       "    <tr>\n",
       "      <th>mean</th>\n",
       "      <td>51.539459</td>\n",
       "      <td>2021-11-01 01:02:22.443243008</td>\n",
       "      <td>25539.316097</td>\n",
       "      <td>301.134829</td>\n",
       "      <td>2021-11-16 13:15:20.821621504</td>\n",
       "    </tr>\n",
       "    <tr>\n",
       "      <th>min</th>\n",
       "      <td>13.000000</td>\n",
       "      <td>2019-05-08 00:00:00</td>\n",
       "      <td>-2008.492140</td>\n",
       "      <td>101.000000</td>\n",
       "      <td>2019-05-09 00:00:00</td>\n",
       "    </tr>\n",
       "    <tr>\n",
       "      <th>25%</th>\n",
       "      <td>35.000000</td>\n",
       "      <td>2020-07-28 00:00:00</td>\n",
       "      <td>13241.224652</td>\n",
       "      <td>202.000000</td>\n",
       "      <td>2020-08-12 00:00:00</td>\n",
       "    </tr>\n",
       "    <tr>\n",
       "      <th>50%</th>\n",
       "      <td>52.000000</td>\n",
       "      <td>2021-11-01 00:00:00</td>\n",
       "      <td>25538.069376</td>\n",
       "      <td>302.000000</td>\n",
       "      <td>2021-11-17 00:00:00</td>\n",
       "    </tr>\n",
       "    <tr>\n",
       "      <th>75%</th>\n",
       "      <td>68.000000</td>\n",
       "      <td>2023-02-03 00:00:00</td>\n",
       "      <td>37820.508436</td>\n",
       "      <td>401.000000</td>\n",
       "      <td>2023-02-18 00:00:00</td>\n",
       "    </tr>\n",
       "    <tr>\n",
       "      <th>max</th>\n",
       "      <td>89.000000</td>\n",
       "      <td>2024-05-07 00:00:00</td>\n",
       "      <td>52764.276736</td>\n",
       "      <td>500.000000</td>\n",
       "      <td>2024-06-06 00:00:00</td>\n",
       "    </tr>\n",
       "    <tr>\n",
       "      <th>std</th>\n",
       "      <td>19.602454</td>\n",
       "      <td>NaN</td>\n",
       "      <td>14211.454431</td>\n",
       "      <td>115.243069</td>\n",
       "      <td>NaN</td>\n",
       "    </tr>\n",
       "  </tbody>\n",
       "</table>\n",
       "</div>"
      ],
      "text/plain": [
       "                Age              Date of Admission  Billing Amount  \\\n",
       "count  55500.000000                          55500    55500.000000   \n",
       "mean      51.539459  2021-11-01 01:02:22.443243008    25539.316097   \n",
       "min       13.000000            2019-05-08 00:00:00    -2008.492140   \n",
       "25%       35.000000            2020-07-28 00:00:00    13241.224652   \n",
       "50%       52.000000            2021-11-01 00:00:00    25538.069376   \n",
       "75%       68.000000            2023-02-03 00:00:00    37820.508436   \n",
       "max       89.000000            2024-05-07 00:00:00    52764.276736   \n",
       "std       19.602454                            NaN    14211.454431   \n",
       "\n",
       "        Room Number                 Discharge Date  \n",
       "count  55500.000000                          55500  \n",
       "mean     301.134829  2021-11-16 13:15:20.821621504  \n",
       "min      101.000000            2019-05-09 00:00:00  \n",
       "25%      202.000000            2020-08-12 00:00:00  \n",
       "50%      302.000000            2021-11-17 00:00:00  \n",
       "75%      401.000000            2023-02-18 00:00:00  \n",
       "max      500.000000            2024-06-06 00:00:00  \n",
       "std      115.243069                            NaN  "
      ]
     },
     "execution_count": 60,
     "metadata": {},
     "output_type": "execute_result"
    }
   ],
   "source": [
    "#Valores numericos\n",
    "df.describe()"
   ]
  },
  {
   "cell_type": "code",
   "execution_count": 68,
   "id": "2e958272-3bf3-46c8-ba65-201232eab9e1",
   "metadata": {},
   "outputs": [
    {
     "data": {
      "text/html": [
       "<div>\n",
       "<style scoped>\n",
       "    .dataframe tbody tr th:only-of-type {\n",
       "        vertical-align: middle;\n",
       "    }\n",
       "\n",
       "    .dataframe tbody tr th {\n",
       "        vertical-align: top;\n",
       "    }\n",
       "\n",
       "    .dataframe thead th {\n",
       "        text-align: right;\n",
       "    }\n",
       "</style>\n",
       "<table border=\"1\" class=\"dataframe\">\n",
       "  <thead>\n",
       "    <tr style=\"text-align: right;\">\n",
       "      <th></th>\n",
       "      <th>count</th>\n",
       "      <th>unique</th>\n",
       "      <th>top</th>\n",
       "      <th>freq</th>\n",
       "    </tr>\n",
       "  </thead>\n",
       "  <tbody>\n",
       "    <tr>\n",
       "      <th>Name</th>\n",
       "      <td>55500</td>\n",
       "      <td>40235</td>\n",
       "      <td>MICHAEL WILLIAMS</td>\n",
       "      <td>24</td>\n",
       "    </tr>\n",
       "    <tr>\n",
       "      <th>Gender</th>\n",
       "      <td>55500</td>\n",
       "      <td>2</td>\n",
       "      <td>Male</td>\n",
       "      <td>27774</td>\n",
       "    </tr>\n",
       "    <tr>\n",
       "      <th>Blood Type</th>\n",
       "      <td>55500</td>\n",
       "      <td>8</td>\n",
       "      <td>A-</td>\n",
       "      <td>6969</td>\n",
       "    </tr>\n",
       "    <tr>\n",
       "      <th>Medical Condition</th>\n",
       "      <td>55500</td>\n",
       "      <td>6</td>\n",
       "      <td>Arthritis</td>\n",
       "      <td>9308</td>\n",
       "    </tr>\n",
       "    <tr>\n",
       "      <th>Doctor</th>\n",
       "      <td>55500</td>\n",
       "      <td>40341</td>\n",
       "      <td>Michael Smith</td>\n",
       "      <td>27</td>\n",
       "    </tr>\n",
       "    <tr>\n",
       "      <th>Hospital</th>\n",
       "      <td>55500</td>\n",
       "      <td>39876</td>\n",
       "      <td>LLC Smith</td>\n",
       "      <td>44</td>\n",
       "    </tr>\n",
       "    <tr>\n",
       "      <th>Insurance Provider</th>\n",
       "      <td>55500</td>\n",
       "      <td>5</td>\n",
       "      <td>Cigna</td>\n",
       "      <td>11249</td>\n",
       "    </tr>\n",
       "    <tr>\n",
       "      <th>Admission Type</th>\n",
       "      <td>55500</td>\n",
       "      <td>3</td>\n",
       "      <td>Elective</td>\n",
       "      <td>18655</td>\n",
       "    </tr>\n",
       "    <tr>\n",
       "      <th>Medication</th>\n",
       "      <td>55500</td>\n",
       "      <td>5</td>\n",
       "      <td>Lipitor</td>\n",
       "      <td>11140</td>\n",
       "    </tr>\n",
       "    <tr>\n",
       "      <th>Test Results</th>\n",
       "      <td>55500</td>\n",
       "      <td>3</td>\n",
       "      <td>Abnormal</td>\n",
       "      <td>18627</td>\n",
       "    </tr>\n",
       "  </tbody>\n",
       "</table>\n",
       "</div>"
      ],
      "text/plain": [
       "                    count unique               top   freq\n",
       "Name                55500  40235  MICHAEL WILLIAMS     24\n",
       "Gender              55500      2              Male  27774\n",
       "Blood Type          55500      8                A-   6969\n",
       "Medical Condition   55500      6         Arthritis   9308\n",
       "Doctor              55500  40341     Michael Smith     27\n",
       "Hospital            55500  39876         LLC Smith     44\n",
       "Insurance Provider  55500      5             Cigna  11249\n",
       "Admission Type      55500      3          Elective  18655\n",
       "Medication          55500      5           Lipitor  11140\n",
       "Test Results        55500      3          Abnormal  18627"
      ]
     },
     "execution_count": 68,
     "metadata": {},
     "output_type": "execute_result"
    }
   ],
   "source": [
    "#Incluyendo objetos\n",
    "df.describe(include= \"object\").T"
   ]
  },
  {
   "cell_type": "markdown",
   "id": "02d8e332-7749-4a4a-a3dd-146ace9141aa",
   "metadata": {
    "jp-MarkdownHeadingCollapsed": true
   },
   "source": [
    "#### Columnas categoricas."
   ]
  },
  {
   "cell_type": "code",
   "execution_count": 77,
   "id": "b7bd3fda-251b-4333-9bb6-3d6405a2f1c4",
   "metadata": {},
   "outputs": [
    {
     "data": {
      "text/plain": [
       "Gender\n",
       "Male      27774\n",
       "Female    27726\n",
       "Name: count, dtype: int64"
      ]
     },
     "execution_count": 77,
     "metadata": {},
     "output_type": "execute_result"
    }
   ],
   "source": [
    "df['Gender'].value_counts()"
   ]
  },
  {
   "cell_type": "code",
   "execution_count": 79,
   "id": "35c466e0-e3b7-4837-9096-2583948fc549",
   "metadata": {},
   "outputs": [
    {
     "name": "stdout",
     "output_type": "stream",
     "text": [
      "Blood Type\n",
      "A-     6969\n",
      "A+     6956\n",
      "AB+    6947\n",
      "AB-    6945\n",
      "B+     6945\n",
      "B-     6944\n",
      "O+     6917\n",
      "O-     6877\n",
      "Name: count, dtype: int64\n"
     ]
    }
   ],
   "source": [
    "print(df['Blood Type'].value_counts())"
   ]
  },
  {
   "cell_type": "code",
   "execution_count": 81,
   "id": "af9fac9d-ed06-407f-8eac-9066109d17b4",
   "metadata": {},
   "outputs": [
    {
     "name": "stdout",
     "output_type": "stream",
     "text": [
      "Admission Type\n",
      "Elective     18655\n",
      "Urgent       18576\n",
      "Emergency    18269\n",
      "Name: count, dtype: int64\n"
     ]
    }
   ],
   "source": [
    "print(df['Admission Type'].value_counts())"
   ]
  },
  {
   "cell_type": "code",
   "execution_count": 85,
   "id": "736f7aaf-5fca-4b2e-8eb6-59fae1a74e86",
   "metadata": {},
   "outputs": [
    {
     "name": "stdout",
     "output_type": "stream",
     "text": [
      "Insurance Provider\n",
      "Cigna               11249\n",
      "Medicare            11154\n",
      "UnitedHealthcare    11125\n",
      "Blue Cross          11059\n",
      "Aetna               10913\n",
      "Name: count, dtype: int64\n"
     ]
    }
   ],
   "source": [
    "print(df['Insurance Provider'].value_counts())"
   ]
  },
  {
   "cell_type": "code",
   "execution_count": 93,
   "id": "4f0a93b1-ab76-4d57-a080-9fc514a7bca9",
   "metadata": {},
   "outputs": [
    {
     "name": "stdout",
     "output_type": "stream",
     "text": [
      "Doctor\n",
      "Michael Smith           27\n",
      "Robert Smith            22\n",
      "John Smith              22\n",
      "Michael Johnson         20\n",
      "James Smith             20\n",
      "                        ..\n",
      "Audrey Zimmerman DDS     1\n",
      "Justin Banks             1\n",
      "Joseph Williams Jr.      1\n",
      "Jason Franklin           1\n",
      "Jeffrey Moore            1\n",
      "Name: count, Length: 40341, dtype: int64\n"
     ]
    }
   ],
   "source": [
    "print(df['Doctor'].value_counts())"
   ]
  },
  {
   "cell_type": "code",
   "execution_count": 95,
   "id": "d6f3a438-eeff-4d5b-9461-6e3db04c3a79",
   "metadata": {},
   "outputs": [
    {
     "name": "stdout",
     "output_type": "stream",
     "text": [
      "Test Results\n",
      "Abnormal        18627\n",
      "Normal          18517\n",
      "Inconclusive    18356\n",
      "Name: count, dtype: int64\n"
     ]
    }
   ],
   "source": [
    "print(df['Test Results'].value_counts())"
   ]
  },
  {
   "cell_type": "markdown",
   "id": "8028afd1-c06f-4a43-bff5-95918532a117",
   "metadata": {
    "jp-MarkdownHeadingCollapsed": true
   },
   "source": [
    "## OBSERVACIONES "
   ]
  },
  {
   "cell_type": "code",
   "execution_count": null,
   "id": "9339ccd9-0dba-410b-88af-816b143866b8",
   "metadata": {},
   "outputs": [],
   "source": [
    "'''\n",
    "1 Rango de edad en pacientes:\n",
    " -Los pacientes tienen una edad de entre 13 a 89 años, con un promedio aproximado de 52 años.\n",
    "\n",
    "2 Capacidad de los cuartos de hospital:\n",
    " -El hospital ofrece un rango de cuartos desde 101 a 500, asegurando comodidad a los pacientes.\n",
    "\n",
    "3 Cobertura Temporal:\n",
    " -La información abarca desde el 8 de mayo de 2019 hasta el 7 de mayo de 2024, proporcionando una vista de cinco años de las admisiones de pacientes.\n",
    "\n",
    "4 Tipos de admisión:\n",
    " -Los pacientes ingresan al hospital a través de tres vías principales de admisión:\n",
    "  -Emergencia\n",
    "  -Efectivo \n",
    "  -Transferencia\n",
    "\n",
    "5 Distribución de los tipos de sangre:\n",
    " -Los pacientes presentan varios tipos de sangre, siendo A- el más prevalente.\n",
    "\n",
    "6 Distribución de hospitales: \n",
    " -El conjunto de datos abarca admisiones de 44 hospitales, siendo LLC Smith el más frecuente.\n",
    "\n",
    "7 Distribución de doctores: \n",
    " -Entre los 27 doctores registrados en el conjunto de datos, Michael Smith atiende al mayor número de pacientes.\n",
    "'''"
   ]
  },
  {
   "cell_type": "markdown",
   "id": "c16fc782-bf44-487e-828c-914c18498e54",
   "metadata": {},
   "source": [
    "## VISUALIZACIONES"
   ]
  },
  {
   "cell_type": "code",
   "execution_count": 22,
   "id": "2380f7bb-75e7-4eb3-b4d1-1f910ef519a6",
   "metadata": {},
   "outputs": [
    {
     "data": {
      "image/png": "[encoded data removed]",
      "text/plain": [
       "<Figure size 800x600 with 1 Axes>"
      ]
     },
     "metadata": {},
     "output_type": "display_data"
    }
   ],
   "source": [
    "#Histograma para la columna edad \n",
    "plt.figure(figsize=(8, 6))\n",
    "plt.hist(df['Age'], bins=30, edgecolor='black')\n",
    "plt.title('Distribución de edad')\n",
    "plt.xlabel('Edad')\n",
    "plt.ylabel('Conteo')\n",
    "plt.grid(True)\n",
    "plt.show()"
   ]
  },
  {
   "cell_type": "code",
   "execution_count": 48,
   "id": "382c94da-cc8f-44c5-860f-82c5f1bea4d7",
   "metadata": {},
   "outputs": [
    {
     "data": {
      "image/png": "[encoded data removed]",
      "text/plain": [
       "<Figure size 1000x600 with 1 Axes>"
      ]
     },
     "metadata": {},
     "output_type": "display_data"
    }
   ],
   "source": [
    "# Calcular admisiones mensuales\n",
    "monthly_admissions = df['Date of Admission'].dt.month.value_counts().sort_index()\n",
    "\n",
    "# Crear un dataframe\n",
    "monthly_admissions_df = pd.DataFrame({'Month': monthly_admissions.index, 'Admissions': monthly_admissions.values})\n",
    "\n",
    "\n",
    "# Gráfico de líneas con Matplotlib\n",
    "plt.figure(figsize=(10, 6))\n",
    "plt.plot(monthly_admissions_df['Month'], monthly_admissions_df['Admissions'], marker='o')\n",
    "\n",
    "\n",
    "plt.title('Tendencia de admisiones mensual')\n",
    "plt.xlabel('Mes')\n",
    "plt.ylabel('Número de admisiones')\n",
    "\n",
    "\n",
    "plt.grid(True) \n",
    "plt.xticks(rotation=45)  \n",
    "plt.show()"
   ]
  },
  {
   "cell_type": "code",
   "execution_count": 46,
   "id": "12f79181-5382-4d12-9758-5ff36f838cbe",
   "metadata": {},
   "outputs": [
    {
     "data": {
      "image/png": "[encoded data removed]",
      "text/plain": [
       "<Figure size 1000x500 with 1 Axes>"
      ]
     },
     "metadata": {},
     "output_type": "display_data"
    }
   ],
   "source": [
    "# Se agrupa por 'Condición médica' y 'genero' y calcula el conteo para cada combinación.\n",
    "plt.figure(figsize=(10, 5))  \n",
    "\n",
    "\n",
    "sns.histplot(data=df, x='Medical Condition', hue='Gender', multiple='dodge', shrink=.8, palette=\"Set1\")\n",
    "\n",
    "\n",
    "plt.title('Condición médica por género')\n",
    "plt.xlabel('Condición médica')\n",
    "plt.ylabel('Cuenta')\n",
    "\n",
    "# Rotar las etiquetas del eje X si es necesario\n",
    "plt.xticks(rotation=45)  \n",
    "# Añadir cuadrícula\n",
    "plt.grid(axis='y')  \n",
    "\n",
    "\n",
    "plt.show()"
   ]
  },
  {
   "cell_type": "code",
   "execution_count": 38,
   "id": "ffd2ba3b-5c42-486a-a247-8289cc579915",
   "metadata": {},
   "outputs": [
    {
     "data": {
      "image/png": "[encoded data removed]",
      "text/plain": [
       "<Figure size 1000x600 with 1 Axes>"
      ]
     },
     "metadata": {},
     "output_type": "display_data"
    }
   ],
   "source": [
    "# Se agrupa por 'Tipo de Admisión' y 'Condición Médica' y calcula el conteo para cada combinación.\n",
    "grouped_df = df.groupby(['Admission Type', 'Medical Condition']).size().reset_index(name='Count')\n",
    "\n",
    "# Tamaño del gráfico\n",
    "plt.figure(figsize=(10, 6))\n",
    "\n",
    "\n",
    "sns.barplot(data=grouped_df, x='Admission Type', y='Count', hue='Medical Condition', palette='Set2')\n",
    "\n",
    "\n",
    "plt.title('Conteo de Pacientes por Tipo de Admisión y Condición Médica')\n",
    "plt.xlabel('Tipo de admisión')\n",
    "plt.ylabel('Conteo de pacientes')\n",
    "\n",
    "# Rotar las etiquetas del eje X si es necesario\n",
    "plt.xticks(rotation=45)\n",
    "\n",
    "# Añadir cuadrícula\n",
    "plt.grid(axis='y')\n",
    "\n",
    "plt.legend(title='Condición médica')\n",
    "plt.tight_layout()\n",
    "plt.show()"
   ]
  },
  {
   "cell_type": "code",
   "execution_count": 42,
   "id": "9c562f2f-dd12-477a-b2ba-1a347469006f",
   "metadata": {},
   "outputs": [
    {
     "data": {
      "image/png": "[encoded data removed]",
      "text/plain": [
       "<Figure size 1000x600 with 1 Axes>"
      ]
     },
     "metadata": {},
     "output_type": "display_data"
    }
   ],
   "source": [
    "# Se agrupa por 'Tipo de Sangre' y 'Condición Médica' y calcula el conteo para cada combinación.\n",
    "grouped_df = df.groupby(['Blood Type', 'Medical Condition']).size().reset_index(name='Count')\n",
    "\n",
    "# Tamaño del gráfico\n",
    "plt.figure(figsize=(10, 6))\n",
    "\n",
    "\n",
    "sns.barplot(data=grouped_df, x='Blood Type', y='Count', hue='Medical Condition', palette='Set2')\n",
    "\n",
    "\n",
    "plt.title('Conteo de pacientes por tipo de sangre y condición médica')\n",
    "plt.xlabel('Tipo de sangre')\n",
    "plt.ylabel('Conteo de pacientes')\n",
    "\n",
    "# Rotar las etiquetas del eje X si es necesario\n",
    "plt.xticks(rotation=45)\n",
    "\n",
    "# Añadir cuadrícula\n",
    "plt.grid(axis='y')\n",
    "\n",
    "\n",
    "plt.legend(title='Condición médica')\n",
    "plt.tight_layout()\n",
    "plt.show()"
   ]
  }
 ],
 "metadata": {
  "kernelspec": {
   "display_name": "Python 3 (ipykernel)",
   "language": "python",
   "name": "python3"
  },
  "language_info": {
   "codemirror_mode": {
    "name": "ipython",
    "version": 3
   },
   "file_extension": ".py",
   "mimetype": "text/x-python",
   "name": "python",
   "nbconvert_exporter": "python",
   "pygments_lexer": "ipython3",
   "version": "3.12.4"
  }
 },
 "nbformat": 4,
 "nbformat_minor": 5
}
